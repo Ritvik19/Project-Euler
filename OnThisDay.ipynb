{
 "cells": [
  {
   "cell_type": "markdown",
   "metadata": {},
   "source": [
    "# Libraries"
   ]
  },
  {
   "cell_type": "code",
   "execution_count": 1,
   "metadata": {
    "ExecuteTime": {
     "end_time": "2019-06-03T08:03:18.123353Z",
     "start_time": "2019-06-03T08:03:16.957224Z"
    }
   },
   "outputs": [],
   "source": [
    "import requests, bs4\n",
    "import pandas as pd\n",
    "from IPython.display import clear_output\n",
    "import logging\n",
    "\n",
    "\n",
    "pd.options.display.max_columns = 5\n",
    "pd.options.display.max_colwidth = -1"
   ]
  },
  {
   "cell_type": "markdown",
   "metadata": {},
   "source": [
    "# Scraping"
   ]
  },
  {
   "cell_type": "code",
   "execution_count": 2,
   "metadata": {
    "ExecuteTime": {
     "end_time": "2019-06-03T08:03:18.150185Z",
     "start_time": "2019-06-03T08:03:18.126263Z"
    }
   },
   "outputs": [
    {
     "name": "stdout",
     "output_type": "stream",
     "text": [
      "366\n"
     ]
    }
   ],
   "source": [
    "days = []\n",
    "days += [('january', str(i)) for i in range(1,32)]\n",
    "days += [('february', str(i)) for i in range(1,30)]\n",
    "days += [('march', str(i)) for i in range(1,32)]\n",
    "days += [('april', str(i)) for i in range(1,31)]\n",
    "days += [('may', str(i)) for i in range(1,32)]\n",
    "days += [('june', str(i)) for i in range(1,31)]\n",
    "days += [('july', str(i)) for i in range(1,32)]\n",
    "days += [('august', str(i)) for i in range(1,32)]\n",
    "days += [('september', str(i)) for i in range(1,31)]\n",
    "days += [('october', str(i)) for i in range(1,32)]\n",
    "days += [('november', str(i)) for i in range(1,31)]\n",
    "days += [('december', str(i)) for i in range(1,32)]\n",
    "print(len(days))"
   ]
  },
  {
   "cell_type": "code",
   "execution_count": 3,
   "metadata": {
    "ExecuteTime": {
     "end_time": "2019-06-03T08:20:58.401403Z",
     "start_time": "2019-06-03T08:03:18.155132Z"
    }
   },
   "outputs": [
    {
     "name": "stdout",
     "output_type": "stream",
     "text": [
      "Exceptions Occurred:  0\n"
     ]
    }
   ],
   "source": [
    "exception_logs = []\n",
    "for month, date in days:\n",
    "    print(month, date)\n",
    "    url1 = \"https://www.onthisday.com/day/\" + month + \"/\" + date\n",
    "    url2 = \"https://www.britannica.com/on-this-day/\" + month.title() + \"-\" + date\n",
    "\n",
    "    onthisday = pd.DataFrame(columns=[\"Year\", \"Event\"])\n",
    "\n",
    "    try:\n",
    "        res = requests.get(url1)\n",
    "        if res.status_code == requests.codes.ok:\n",
    "            ressoup = bs4.BeautifulSoup(res.text, \"lxml\")\n",
    "            elems = ressoup.select(\"li.event-list__item\")\n",
    "            for e in elems:\n",
    "                e = e.getText().split()\n",
    "                onthisday = pd.concat([onthisday, pd.DataFrame({\"Year\": [e[0]], \"Event\": [\" \".join(e[1:])]})], axis=0)\n",
    "    except Exception as e:\n",
    "        exception_logs.append((str(e), month, date, \"1\"))\n",
    "\n",
    "    try:\n",
    "        res = requests.get(url2)\n",
    "        if res.status_code == requests.codes.ok:\n",
    "            ressoup = bs4.BeautifulSoup(res.text, \"lxml\")\n",
    "            onthisday = pd.concat(\n",
    "                [\n",
    "                    onthisday,\n",
    "                    pd.DataFrame(\n",
    "                        {\n",
    "                            \"Year\": [ressoup.select(\".md-history-featured-date\")[0].getText().strip()],\n",
    "                            \"Event\": [ressoup.select(\".md-history-featured-content\")[0].getText().strip()],\n",
    "                        }\n",
    "                    ),\n",
    "                ],\n",
    "                axis=0,\n",
    "            )\n",
    "            elems1 = ressoup.select(\".md-history-event-date\")\n",
    "            elems2 = ressoup.select(\".md-history-event-content\")\n",
    "            for e1, e2 in zip(elems1, elems2):\n",
    "                onthisday = pd.concat(\n",
    "                    [onthisday, pd.DataFrame({\"Year\": [e1.getText().strip()], \"Event\": [e2.getText().strip()]})],\n",
    "                    axis=0,\n",
    "                )\n",
    "\n",
    "            elems1 = ressoup.select(\".date.text-center\")\n",
    "            elems2 = ressoup.select(\".md-history-born-content.grid-xs\")\n",
    "            for e1, e2 in zip(elems1, elems2):\n",
    "                onthisday = pd.concat(\n",
    "                    [\n",
    "                        onthisday,\n",
    "                        pd.DataFrame({\"Year\": [e1.getText().strip()], \"Event\": [e2.getText().strip() + \"\\nwas born\"]}),\n",
    "                    ],\n",
    "                    axis=0,\n",
    "                )\n",
    "    except Exception as e:\n",
    "        exception_logs.append((str(e), month, date, \"2\"))\n",
    "    clear_output(wait=True)\n",
    "    print(\"Exceptions Occurred: \", len(exception_logs))\n",
    "    onthisday = onthisday.sort_values(\"Year\", ascending=False).reset_index(drop=True)\n",
    "    onthisday.to_json(\"E:/Scrapped-Data/OnThisDay/\" + month + date + \".json\")\n"
   ]
  },
  {
   "cell_type": "code",
   "execution_count": null,
   "metadata": {},
   "outputs": [],
   "source": []
  }
 ],
 "metadata": {
  "kernelspec": {
   "display_name": "Python 3",
   "language": "python",
   "name": "python3"
  },
  "language_info": {
   "codemirror_mode": {
    "name": "ipython",
    "version": 3
   },
   "file_extension": ".py",
   "mimetype": "text/x-python",
   "name": "python",
   "nbconvert_exporter": "python",
   "pygments_lexer": "ipython3",
   "version": "3.7.7"
  },
  "toc": {
   "base_numbering": 1,
   "nav_menu": {},
   "number_sections": true,
   "sideBar": true,
   "skip_h1_title": false,
   "title_cell": "Table of Contents",
   "title_sidebar": "Contents",
   "toc_cell": false,
   "toc_position": {},
   "toc_section_display": true,
   "toc_window_display": false
  },
  "varInspector": {
   "cols": {
    "lenName": 16,
    "lenType": 16,
    "lenVar": 40
   },
   "kernels_config": {
    "python": {
     "delete_cmd_postfix": "",
     "delete_cmd_prefix": "del ",
     "library": "var_list.py",
     "varRefreshCmd": "print(var_dic_list())"
    },
    "r": {
     "delete_cmd_postfix": ") ",
     "delete_cmd_prefix": "rm(",
     "library": "var_list.r",
     "varRefreshCmd": "cat(var_dic_list()) "
    }
   },
   "types_to_exclude": [
    "module",
    "function",
    "builtin_function_or_method",
    "instance",
    "_Feature"
   ],
   "window_display": false
  }
 },
 "nbformat": 4,
 "nbformat_minor": 2
}
